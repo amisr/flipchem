{
 "cells": [
  {
   "cell_type": "markdown",
   "metadata": {},
   "source": [
    "# Comparison of SRI data files with flipchem and Kelley model"
   ]
  },
  {
   "cell_type": "markdown",
   "metadata": {},
   "source": [
    "This notebook pulls a selected file from the SRI International ISR Database. The collision frequency data from this file is then compared to the flipchem model as well as the model from Kelley's textbook using the MSIS data from the same file."
   ]
  },
  {
   "cell_type": "code",
   "execution_count": 2,
   "metadata": {},
   "outputs": [
    {
     "ename": "ModuleNotFoundError",
     "evalue": "No module named 'msis'",
     "output_type": "error",
     "traceback": [
      "\u001b[1;31m---------------------------------------------------------------------------\u001b[0m",
      "\u001b[1;31mModuleNotFoundError\u001b[0m                       Traceback (most recent call last)",
      "\u001b[1;32m<ipython-input-2-6d79b572c996>\u001b[0m in \u001b[0;36m<module>\u001b[1;34m\u001b[0m\n\u001b[0;32m      6\u001b[0m \u001b[1;32mimport\u001b[0m \u001b[0mio_utils\u001b[0m\u001b[1;33m\u001b[0m\u001b[1;33m\u001b[0m\u001b[0m\n\u001b[0;32m      7\u001b[0m \u001b[1;31m#from filpchem import msis #msis.py script from flipchem\u001b[0m\u001b[1;33m\u001b[0m\u001b[1;33m\u001b[0m\u001b[1;33m\u001b[0m\u001b[0m\n\u001b[1;32m----> 8\u001b[1;33m \u001b[1;32mimport\u001b[0m \u001b[0mmsis\u001b[0m \u001b[1;31m#msis.py script from flipchem\u001b[0m\u001b[1;33m\u001b[0m\u001b[1;33m\u001b[0m\u001b[0m\n\u001b[0m",
      "\u001b[1;31mModuleNotFoundError\u001b[0m: No module named 'msis'"
     ]
    }
   ],
   "source": [
    "import h5py\n",
    "import numpy as np\n",
    "import datetime\n",
    "import matplotlib.pyplot as plt\n",
    "import matplotlib.dates as mdates\n",
    "import io_utils\n",
    "from filpchem import msis #msis.py script from flipchem\n",
    "#import msis #msis.py script from flipchem"
   ]
  },
  {
   "cell_type": "code",
   "execution_count": null,
   "metadata": {},
   "outputs": [],
   "source": [
    "#Download the data file\n",
    "import os\n",
    "filepart1 = '20210721.001'\n",
    "filepart2 = '_ac_20min-fitcal.h5'\n",
    "outputfilepath = filepart1 + filepart2\n",
    "if not os.path.exists(outputfilepath):\n",
    "    import urllib.request\n",
    "    url='https://data.amisr.com/database/dbase_site_media/PFISR/Experiments/' + filepart1 + '/DataFiles/' + outputfilepath\n",
    "    \n",
    "    print('Downloading data file...')\n",
    "    urllib.request.urlretrieve(url,outputfilepath)\n",
    "\n",
    "    print('...Done!')"
   ]
  },
  {
   "cell_type": "code",
   "execution_count": null,
   "metadata": {},
   "outputs": [],
   "source": [
    "f=io_utils.read_whole_h5file(outputfilepath)\n",
    "\n",
    "#find east and west beams\n",
    "be = np.argmin(76.09-np.abs(f['/']['BeamCodes'][:,1]))\n",
    "bw = np.argmin(np.abs(-35.09-f['/']['BeamCodes'][:,1]))\n",
    "\n",
    "#select direction\n",
    "dire = bw\n",
    "\n",
    "#load time and altitude array\n",
    "t = [datetime.datetime(1970,1,1)+datetime.timedelta(seconds=int(t)) for t in f['/Time']['UnixTime'][:,0]]\n",
    "h = f['/FittedParams']['Altitude']*1e-3 #convert meters to km\n",
    "h = h[dire,:]\n",
    "\n",
    "ne = f['/FittedParams']['Ne']\n",
    "\n",
    "#load ion-neutral collision frequencies weighted by ion fractions \n",
    "nu0n = f['/FittedParams']['Fits'][:,dire,:,0,2]*f['/FittedParams']['Fits'][:,dire,:,0,0] #O+\n",
    "nu1n = f['/FittedParams']['Fits'][:,dire,:,1,2]*f['/FittedParams']['Fits'][:,dire,:,1,0] #O2+\n",
    "nu2n = f['/FittedParams']['Fits'][:,dire,:,2,2]*f['/FittedParams']['Fits'][:,dire,:,2,0] #NO+\n",
    "nu3n = f['/FittedParams']['Fits'][:,dire,:,3,2]*f['/FittedParams']['Fits'][:,dire,:,3,0] #N2+\n",
    "nu4n = f['/FittedParams']['Fits'][:,dire,:,4,2]*f['/FittedParams']['Fits'][:,dire,:,4,0] #N+\n",
    "\n",
    "nu_sri = nu0n + nu1n + nu2n + nu3n + nu4n\n",
    "\n",
    "#load ion fractions\n",
    "fracs = f['/FittedParams']['Fits'][:,dire,:,0:5,0]\n",
    "\n",
    "#average all time points\n",
    "fracs = np.nanmean(fracs, axis=0)\n",
    "nu_sri = np.nanmean(nu_sri, axis=0)"
   ]
  },
  {
   "cell_type": "code",
   "execution_count": null,
   "metadata": {},
   "outputs": [],
   "source": [
    "#select altitude range\n",
    "toph = 25  #default: toph = 25 : 186 km\n",
    "minh = 3   #default: minh = 3  :  95 km"
   ]
  },
  {
   "cell_type": "code",
   "execution_count": null,
   "metadata": {},
   "outputs": [],
   "source": [
    "#load neutral msis data from SRI file (n in units 1/m^3)\n",
    "nH = f['/MSIS']['nH'][:,dire,:]\n",
    "nHe = f['/MSIS']['nHe'][:,dire,:]\n",
    "nO = f['/MSIS']['nO'][:,dire,:]\n",
    "nO2 = f['/MSIS']['nO2'][:,dire,:]\n",
    "nAr = f['/MSIS']['nAr'][:,dire,:]\n",
    "nN = f['/MSIS']['nN'][:,dire,:]\n",
    "nN2 = f['/MSIS']['nN2'][:,dire,:]\n",
    "nNO = f['/MSIS']['nNO'][:,dire,:]\n",
    "Tn = f['/MSIS']['Tn'][:,dire,:]\n",
    "\n",
    "#average all time points\n",
    "nH = np.nanmean(nH, axis=0)\n",
    "nHe = np.nanmean(nHe, axis=0)\n",
    "nO = np.nanmean(nO, axis=0)\n",
    "nO2 = np.nanmean(nO2, axis=0)\n",
    "nAr = np.nanmean(nAr, axis=0)\n",
    "nN = np.nanmean(nN, axis=0)\n",
    "nN2 = np.nanmean(nN2, axis=0)\n",
    "nNO = np.nanmean(nNO, axis=0)\n",
    "Tn = np.nanmean(Tn, axis=0)"
   ]
  },
  {
   "cell_type": "code",
   "execution_count": null,
   "metadata": {},
   "outputs": [],
   "source": [
    "#calculate collision freqs with flipchem and Kelley model\n",
    "\n",
    "nu_flpch = []\n",
    "nu_kel = []\n",
    "\n",
    "#first for loop over all altitudes\n",
    "for i in range(len(h)):\n",
    "    dens = [nH[i], nHe[i], nN[i], nO[i], nN2[i], nO2[i], nAr[i]]\n",
    "    mi = [16., 32., 30., 28., 14.]\n",
    "    nu_flpch_new = 0.\n",
    "    nu_kel_new = 0.\n",
    "    \n",
    "    #second for loop over all ion species\n",
    "    for j in range(len(mi)):\n",
    "        nu_flpch_new += msis.compute_ion_neutral_collfreq(dens, Tn[i], mi[j], Ti=None)*fracs[i,j]  \n",
    "        nu_kel_new += 2.6e-9*np.sum(dens)*1e-6*(mi[j]**(-0.5))*fracs[i,j]\n",
    "        \n",
    "        \n",
    "    nu_flpch.append(nu_flpch_new)\n",
    "    nu_kel.append(nu_kel_new)"
   ]
  },
  {
   "cell_type": "code",
   "execution_count": null,
   "metadata": {},
   "outputs": [],
   "source": [
    "#comparison plots\n",
    "\n",
    "plt.plot(np.log10(nu_sri[minh:toph]), h[minh:toph], label='$\\\\nu_{in}$ from SRI file')\n",
    "plt.plot(np.log10(nu_kel[minh:toph]), h[minh:toph], label='$\\\\nu_{in}$ from Kelley model')\n",
    "plt.plot(np.log10(nu_flpch[minh:toph]), h[minh:toph], label='$\\\\nu_{in}$ from flipchem model')\n",
    "plt.ylabel('altitude [km]')\n",
    "plt.xlabel('$log_{10}(f)$')\n",
    "#draw NO+ gyrofrequency\n",
    "plt.vlines(2.206,95,200, 'r', label='$NO^+ gyro freq$')\n",
    "plt.legend()\n",
    "plt.show()\n",
    "\n",
    "plt.plot(np.log10(nu_sri[minh:toph]), h[minh:toph], label='$\\\\nu_{in}$ from SRI file')\n",
    "plt.plot(np.log10(nu_kel[minh:toph]), h[minh:toph], label='$\\\\nu_{in}$ from Kelley model')\n",
    "plt.plot(np.log10(nu_flpch[minh:toph]), h[minh:toph], label='$\\\\nu_{in}$ from flipchem model')\n",
    "plt.ylabel('altitude [km]')\n",
    "plt.xlabel('$log_{10}(f)$')\n",
    "plt.legend()\n",
    "#zoom in on higher altitudes\n",
    "plt.ylim((160,180))\n",
    "plt.xlim((0.7,1.1))\n",
    "plt.show()\n",
    "\n",
    "\n",
    "plt.plot(np.log10(nu_sri[minh:toph]), h[minh:toph], label='$\\\\nu_{in}$ from SRI file')\n",
    "plt.plot(np.log10(nu_kel[minh:toph]), h[minh:toph], label='$\\\\nu_{in}$ from Kelley model')\n",
    "plt.plot(np.log10(nu_flpch[minh:toph]), h[minh:toph], label='$\\\\nu_{in}$ from flipchem model')\n",
    "plt.ylabel('altitude [km]')\n",
    "plt.xlabel('$log_{10}(f)$')\n",
    "plt.legend()\n",
    "#zoom in on intermediate altitudes\n",
    "plt.ylim((130,160))\n",
    "plt.xlim((1.1,1.6))\n",
    "plt.show()\n",
    "\n",
    "\n",
    "plt.plot(np.log10(nu_sri[minh:toph]), h[minh:toph], label='$\\\\nu_{in}$ from SRI file')\n",
    "plt.plot(np.log10(nu_kel[minh:toph]), h[minh:toph], label='$\\\\nu_{in}$ from Kelley model')\n",
    "plt.plot(np.log10(nu_flpch[minh:toph]), h[minh:toph], label='$\\\\nu_{in}$ from flipchem model')\n",
    "plt.ylabel('altitude [km]')\n",
    "plt.xlabel('$log_{10}(f)$')\n",
    "plt.legend()\n",
    "#zoom in on lower altitudes\n",
    "plt.ylim((98,103))\n",
    "plt.xlim((3.3,3.7))\n",
    "plt.show()"
   ]
  }
 ],
 "metadata": {
  "kernelspec": {
   "display_name": "Python 3",
   "language": "python",
   "name": "python3"
  },
  "language_info": {
   "codemirror_mode": {
    "name": "ipython",
    "version": 3
   },
   "file_extension": ".py",
   "mimetype": "text/x-python",
   "name": "python",
   "nbconvert_exporter": "python",
   "pygments_lexer": "ipython3",
   "version": "3.7.4"
  }
 },
 "nbformat": 4,
 "nbformat_minor": 2
}
